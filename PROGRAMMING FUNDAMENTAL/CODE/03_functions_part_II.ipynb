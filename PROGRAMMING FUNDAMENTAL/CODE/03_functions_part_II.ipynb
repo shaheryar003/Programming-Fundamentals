{
 "cells": [
  {
   "cell_type": "markdown",
   "metadata": {
    "slideshow": {
     "slide_type": "slide"
    }
   },
   "source": [
    "### Lexical Scope"
   ]
  },
  {
   "cell_type": "markdown",
   "metadata": {},
   "source": [
    "Where can you see the variables? "
   ]
  },
  {
   "cell_type": "code",
   "execution_count": 1,
   "metadata": {
    "slideshow": {
     "slide_type": "slide"
    }
   },
   "outputs": [],
   "source": [
    "def f(x):             # name x used as formal parameter              \n",
    "    y = 1             # local variable \n",
    "    x = x + y         \n",
    "    print('. x =', x)    \n",
    "    print('. p =', p)    # global variable \n",
    "    return x"
   ]
  },
  {
   "cell_type": "code",
   "execution_count": 3,
   "metadata": {},
   "outputs": [
    {
     "name": "stdout",
     "output_type": "stream",
     "text": [
      ". x = 4\n",
      ". p = 10\n",
      "x = 3\n",
      "y = 2\n"
     ]
    }
   ],
   "source": [
    "p = 10\n",
    "x = 3\n",
    "y = 2    \n",
    "z = f(x) #value of x used as actual parameter\n",
    "\n",
    "print('x =', x) \n",
    "print('y =', y)"
   ]
  },
  {
   "cell_type": "markdown",
   "metadata": {},
   "source": [
    "Let's see this in the tutor."
   ]
  },
  {
   "cell_type": "code",
   "execution_count": 4,
   "metadata": {
    "slideshow": {
     "slide_type": "slide"
    }
   },
   "outputs": [
    {
     "ename": "UnboundLocalError",
     "evalue": "local variable 'y' referenced before assignment",
     "output_type": "error",
     "traceback": [
      "\u001b[1;31m---------------------------------------------------------------------------\u001b[0m",
      "\u001b[1;31mUnboundLocalError\u001b[0m                         Traceback (most recent call last)",
      "\u001b[1;32m<ipython-input-4-e0bff82f1225>\u001b[0m in \u001b[0;36m<module>\u001b[1;34m\u001b[0m\n\u001b[0;32m     10\u001b[0m \u001b[1;33m\u001b[0m\u001b[0m\n\u001b[0;32m     11\u001b[0m \u001b[1;33m\u001b[0m\u001b[0m\n\u001b[1;32m---> 12\u001b[1;33m \u001b[0mf\u001b[0m\u001b[1;33m(\u001b[0m\u001b[1;33m)\u001b[0m\u001b[1;33m\u001b[0m\u001b[1;33m\u001b[0m\u001b[0m\n\u001b[0m",
      "\u001b[1;32m<ipython-input-4-e0bff82f1225>\u001b[0m in \u001b[0;36mf\u001b[1;34m()\u001b[0m\n\u001b[0;32m      3\u001b[0m \u001b[1;32mdef\u001b[0m \u001b[0mf\u001b[0m\u001b[1;33m(\u001b[0m\u001b[1;33m)\u001b[0m\u001b[1;33m:\u001b[0m     \u001b[1;31m# name x used as formal parameter\u001b[0m\u001b[1;33m\u001b[0m\u001b[1;33m\u001b[0m\u001b[0m\n\u001b[0;32m      4\u001b[0m \u001b[1;33m\u001b[0m\u001b[0m\n\u001b[1;32m----> 5\u001b[1;33m     \u001b[0mprint\u001b[0m\u001b[1;33m(\u001b[0m\u001b[1;34m'y ='\u001b[0m\u001b[1;33m,\u001b[0m \u001b[0my\u001b[0m\u001b[1;33m)\u001b[0m\u001b[1;33m\u001b[0m\u001b[1;33m\u001b[0m\u001b[0m\n\u001b[0m\u001b[0;32m      6\u001b[0m \u001b[1;33m\u001b[0m\u001b[0m\n\u001b[0;32m      7\u001b[0m     \u001b[0my\u001b[0m \u001b[1;33m=\u001b[0m \u001b[1;36m1\u001b[0m   \u001b[1;31m# variables are global unless assigned to inside the function\u001b[0m\u001b[1;33m\u001b[0m\u001b[1;33m\u001b[0m\u001b[0m\n",
      "\u001b[1;31mUnboundLocalError\u001b[0m: local variable 'y' referenced before assignment"
     ]
    }
   ],
   "source": [
    "y = 25 \n",
    "\n",
    "def f():     # name x used as formal parameter \n",
    "    \n",
    "    print('y =', y)\n",
    "    \n",
    "    y = 1   # variables are global unless assigned to inside the function     \n",
    "\n",
    "\n",
    "\n",
    "\n",
    "f() "
   ]
  },
  {
   "cell_type": "markdown",
   "metadata": {
    "slideshow": {
     "slide_type": "slide"
    }
   },
   "source": [
    "## Reading Assignment \n",
    "\n",
    "You need to read sections \"1.3.5 Choosing Names\" and \"1.3.6 Functions as Abstractions\" on the Composing Programs page at: http://www.composingprograms.com/pages/13-defining-new-functions.html"
   ]
  },
  {
   "cell_type": "markdown",
   "metadata": {
    "slideshow": {
     "slide_type": "slide"
    }
   },
   "source": [
    "# Designing Functions \n",
    "\n",
    "It's important to design your functions thoughtfully. Some important points to note: \n",
    "\n",
    "* Functions are abstractions. So, their operation should depend as little on the environment as possible\n",
    "* Names should be intuitive and meaningful \n",
    "* Parameters should be named intuitively as well \n",
    "* Functions should be documented! "
   ]
  },
  {
   "cell_type": "code",
   "execution_count": 5,
   "metadata": {
    "slideshow": {
     "slide_type": "slide"
    }
   },
   "outputs": [],
   "source": [
    "def pressure(v, t, n):\n",
    "        \"\"\"Compute the pressure in pascals of an ideal gas. (This is called a docstring.)\n",
    "\n",
    "        Applies the ideal gas law.\n",
    "\n",
    "        v -- volume of gas, in cubic meters\n",
    "        t -- absolute temperature in degrees kelvin\n",
    "        n -- particles of gas\n",
    "        \"\"\"\n",
    "        k = 1.38e-23  # Boltzmann's constant\n",
    "        return n * k * t / v"
   ]
  },
  {
   "cell_type": "code",
   "execution_count": 6,
   "metadata": {
    "slideshow": {
     "slide_type": "slide"
    }
   },
   "outputs": [
    {
     "name": "stdout",
     "output_type": "stream",
     "text": [
      "Help on function pressure in module __main__:\n",
      "\n",
      "pressure(v, t, n)\n",
      "    Compute the pressure in pascals of an ideal gas. (This is called a docstring.)\n",
      "    \n",
      "    Applies the ideal gas law.\n",
      "    \n",
      "    v -- volume of gas, in cubic meters\n",
      "    t -- absolute temperature in degrees kelvin\n",
      "    n -- particles of gas\n",
      "\n"
     ]
    }
   ],
   "source": [
    "help(pressure)"
   ]
  },
  {
   "cell_type": "code",
   "execution_count": null,
   "metadata": {},
   "outputs": [],
   "source": []
  }
 ],
 "metadata": {
  "celltoolbar": "Slideshow",
  "kernelspec": {
   "display_name": "Python 3",
   "language": "python",
   "name": "python3"
  },
  "language_info": {
   "codemirror_mode": {
    "name": "ipython",
    "version": 3
   },
   "file_extension": ".py",
   "mimetype": "text/x-python",
   "name": "python",
   "nbconvert_exporter": "python",
   "pygments_lexer": "ipython3",
   "version": "3.8.3"
  },
  "livereveal": {
   "scroll": true,
   "transition": "fade"
  }
 },
 "nbformat": 4,
 "nbformat_minor": 2
}
